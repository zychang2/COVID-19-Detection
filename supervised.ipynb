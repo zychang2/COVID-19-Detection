{
  "nbformat": 4,
  "nbformat_minor": 0,
  "metadata": {
    "colab": {
      "provenance": [],
      "gpuType": "T4",
      "include_colab_link": true
    },
    "kernelspec": {
      "name": "python3",
      "display_name": "Python 3"
    },
    "language_info": {
      "name": "python"
    },
    "accelerator": "GPU"
  },
  "cells": [
    {
      "cell_type": "markdown",
      "metadata": {
        "id": "view-in-github",
        "colab_type": "text"
      },
      "source": [
        "<a href=\"https://colab.research.google.com/github/zychang2/COVID-19-Detection/blob/main/supervised.ipynb\" target=\"_parent\"><img src=\"https://colab.research.google.com/assets/colab-badge.svg\" alt=\"Open In Colab\"/></a>"
      ]
    },
    {
      "cell_type": "code",
      "execution_count": null,
      "metadata": {
        "id": "gddD3kxG1iSd",
        "colab": {
          "base_uri": "https://localhost:8080/"
        },
        "outputId": "f8fa740c-60d6-4907-bf03-ff54ab0d2654"
      },
      "outputs": [
        {
          "output_type": "stream",
          "name": "stdout",
          "text": [
            "Collecting opendatasets\n",
            "  Downloading opendatasets-0.1.22-py3-none-any.whl (15 kB)\n",
            "Requirement already satisfied: tqdm in /usr/local/lib/python3.10/dist-packages (from opendatasets) (4.66.1)\n",
            "Requirement already satisfied: kaggle in /usr/local/lib/python3.10/dist-packages (from opendatasets) (1.5.16)\n",
            "Requirement already satisfied: click in /usr/local/lib/python3.10/dist-packages (from opendatasets) (8.1.7)\n",
            "Requirement already satisfied: six>=1.10 in /usr/local/lib/python3.10/dist-packages (from kaggle->opendatasets) (1.16.0)\n",
            "Requirement already satisfied: certifi in /usr/local/lib/python3.10/dist-packages (from kaggle->opendatasets) (2023.11.17)\n",
            "Requirement already satisfied: python-dateutil in /usr/local/lib/python3.10/dist-packages (from kaggle->opendatasets) (2.8.2)\n",
            "Requirement already satisfied: requests in /usr/local/lib/python3.10/dist-packages (from kaggle->opendatasets) (2.31.0)\n",
            "Requirement already satisfied: python-slugify in /usr/local/lib/python3.10/dist-packages (from kaggle->opendatasets) (8.0.1)\n",
            "Requirement already satisfied: urllib3 in /usr/local/lib/python3.10/dist-packages (from kaggle->opendatasets) (2.0.7)\n",
            "Requirement already satisfied: bleach in /usr/local/lib/python3.10/dist-packages (from kaggle->opendatasets) (6.1.0)\n",
            "Requirement already satisfied: webencodings in /usr/local/lib/python3.10/dist-packages (from bleach->kaggle->opendatasets) (0.5.1)\n",
            "Requirement already satisfied: text-unidecode>=1.3 in /usr/local/lib/python3.10/dist-packages (from python-slugify->kaggle->opendatasets) (1.3)\n",
            "Requirement already satisfied: charset-normalizer<4,>=2 in /usr/local/lib/python3.10/dist-packages (from requests->kaggle->opendatasets) (3.3.2)\n",
            "Requirement already satisfied: idna<4,>=2.5 in /usr/local/lib/python3.10/dist-packages (from requests->kaggle->opendatasets) (3.6)\n",
            "Installing collected packages: opendatasets\n",
            "Successfully installed opendatasets-0.1.22\n"
          ]
        }
      ],
      "source": [
        "!pip install opendatasets\n",
        "# !pip install plotly"
      ]
    },
    {
      "cell_type": "code",
      "source": [
        "import opendatasets as op\n",
        "import plotly\n",
        "import pathlib\n",
        "import cv2\n",
        "import os\n",
        "import matplotlib.pyplot as plt\n",
        "import torch\n",
        "import torch.nn as nn\n",
        "import torch.nn.functional as F\n",
        "import numpy as np\n",
        "from tqdm import tqdm\n",
        "import pandas as pd\n",
        "from torchvision.transforms import v2\n",
        "from torchvision import transforms"
      ],
      "metadata": {
        "id": "gHqtNJtBm1LP"
      },
      "execution_count": null,
      "outputs": []
    },
    {
      "cell_type": "code",
      "source": [
        "!pip show torchvision"
      ],
      "metadata": {
        "colab": {
          "base_uri": "https://localhost:8080/"
        },
        "id": "nXZb2f-4svuX",
        "outputId": "f15746c5-7818-43e3-87a1-7643da3e661d"
      },
      "execution_count": null,
      "outputs": [
        {
          "output_type": "stream",
          "name": "stdout",
          "text": [
            "Name: torchvision\n",
            "Version: 0.16.0+cu118\n",
            "Summary: image and video datasets and models for torch deep learning\n",
            "Home-page: https://github.com/pytorch/vision\n",
            "Author: PyTorch Core Team\n",
            "Author-email: soumith@pytorch.org\n",
            "License: BSD\n",
            "Location: /usr/local/lib/python3.10/dist-packages\n",
            "Requires: numpy, pillow, requests, torch\n",
            "Required-by: fastai\n"
          ]
        }
      ]
    },
    {
      "cell_type": "code",
      "source": [
        "op.download(\"https://www.kaggle.com/datasets/tawsifurrahman/covid19-radiography-database/\")\n",
        "\n",
        "# username: cs7641lol\n",
        "# key: 2f03f28c325ac1995a7d8072b82fa329"
      ],
      "metadata": {
        "colab": {
          "base_uri": "https://localhost:8080/"
        },
        "id": "d5f7H-C5m4aP",
        "outputId": "04738818-b2c9-4e1d-febc-7354f2710551"
      },
      "execution_count": null,
      "outputs": [
        {
          "output_type": "stream",
          "name": "stdout",
          "text": [
            "Please provide your Kaggle credentials to download this dataset. Learn more: http://bit.ly/kaggle-creds\n",
            "Your Kaggle username: cs7641lol\n",
            "Your Kaggle Key: ··········\n",
            "Downloading covid19-radiography-database.zip to ./covid19-radiography-database\n"
          ]
        },
        {
          "output_type": "stream",
          "name": "stderr",
          "text": [
            "100%|██████████| 778M/778M [00:36<00:00, 22.3MB/s]\n"
          ]
        },
        {
          "output_type": "stream",
          "name": "stdout",
          "text": [
            "\n"
          ]
        }
      ]
    },
    {
      "cell_type": "code",
      "source": [
        "datasetFolder_covid = \"covid19-radiography-database/COVID-19_Radiography_Dataset/COVID/images\"\n",
        "datasetFolder_lo = \"covid19-radiography-database/COVID-19_Radiography_Dataset/Lung_Opacity/images\"\n",
        "datasetFolder_normal = \"covid19-radiography-database/COVID-19_Radiography_Dataset/Normal/images\"\n",
        "datasetFolder_vp = \"covid19-radiography-database/COVID-19_Radiography_Dataset/Viral Pneumonia/images\"\n",
        "\n",
        "dataset_covid = pathlib.Path(datasetFolder_covid)\n",
        "dataset_lo = pathlib.Path(datasetFolder_lo)\n",
        "dataset_normal = pathlib.Path(datasetFolder_normal)\n",
        "dataset_vp = pathlib.Path(datasetFolder_vp)\n",
        "\n",
        "\n",
        "list_image_covid = list(dataset_covid.glob(\"*.*\"))\n",
        "list_image_lo = list(dataset_lo.glob(\"*.*\"))\n",
        "list_image_normal = list(dataset_normal.glob(\"*.*\"))\n",
        "list_image_vp = list(dataset_vp.glob(\"*.*\"))\n"
      ],
      "metadata": {
        "id": "sHg4PfsIm6iE"
      },
      "execution_count": null,
      "outputs": []
    },
    {
      "cell_type": "code",
      "source": [
        "datasetFolder_cmask = \"covid19-radiography-database/COVID-19_Radiography_Dataset/COVID/masks\"\n",
        "datasetFolder_nmask = \"covid19-radiography-database/COVID-19_Radiography_Dataset/Normal/masks\"\n",
        "datasetFolder_lomask = \"covid19-radiography-database/COVID-19_Radiography_Dataset/Lung_Opacity/masks\"\n",
        "datasetFolder_vpmask = \"covid19-radiography-database/COVID-19_Radiography_Dataset/Viral Pneumonia/masks\"\n",
        "\n",
        "dataset_cm = pathlib.Path(datasetFolder_cmask)\n",
        "dataset_nm = pathlib.Path(datasetFolder_nmask)\n",
        "dataset_lm = pathlib.Path(datasetFolder_lomask)\n",
        "dataset_vm = pathlib.Path(datasetFolder_vpmask)\n",
        "\n",
        "list_image_nmask = list(dataset_nm.glob(\"*.*\"))\n",
        "list_image_cmask = list(dataset_cm.glob(\"*.*\"))\n",
        "list_image_lmask = list(dataset_lm.glob(\"*.*\"))\n",
        "list_image_vmask = list(dataset_vm.glob(\"*.*\"))\n",
        "\n",
        "# c: covid, n: normal, l: lung opacity, v: viral pneumonia"
      ],
      "metadata": {
        "id": "HPmToTRJnEBm"
      },
      "execution_count": null,
      "outputs": []
    },
    {
      "cell_type": "code",
      "source": [
        "print(cv2.imread(os.path.join(list_image_nmask[100])).shape)\n",
        "print(cv2.imread(os.path.join(list_image_covid[100])).shape)"
      ],
      "metadata": {
        "colab": {
          "base_uri": "https://localhost:8080/"
        },
        "id": "Uee1VrJFtLGA",
        "outputId": "db572757-0edc-440a-cbb6-0e29ec4f6f82"
      },
      "execution_count": null,
      "outputs": [
        {
          "output_type": "stream",
          "name": "stdout",
          "text": [
            "(256, 256, 3)\n",
            "(299, 299, 3)\n"
          ]
        }
      ]
    },
    {
      "cell_type": "code",
      "source": [
        "# Using provided masks\n",
        "# Comparison\n",
        "train_m = []\n",
        "\n",
        "for i in tqdm(range(1000)):\n",
        "    _m = cv2.imread(os.path.join(list_image_nmask[i])) / 255.0\n",
        "    _i = cv2.imread(os.path.join(list_image_normal[i]))\n",
        "    _i = cv2.resize(_i, (256, 256), interpolation=cv2.INTER_AREA)\n",
        "    train_m.append(_m * _i)\n",
        "\n",
        "for i in tqdm(range(1000)):\n",
        "    _m = cv2.imread(os.path.join(list_image_cmask[i])) / 255.0\n",
        "    _i = cv2.imread(os.path.join(list_image_covid[i]))\n",
        "    _i = cv2.resize(_i, (256, 256), interpolation=cv2.INTER_AREA)\n",
        "    train_m.append(_m * _i)\n",
        "\n",
        "for i in tqdm(range(1000)):\n",
        "    _m = cv2.imread(os.path.join(list_image_lmask[i])) / 255.0\n",
        "    _i = cv2.imread(os.path.join(list_image_lo[i]))\n",
        "    _i = cv2.resize(_i, (256, 256), interpolation=cv2.INTER_AREA)\n",
        "    train_m.append(_m * _i)\n",
        "\n",
        "for i in tqdm(range(1000)):\n",
        "    _m = cv2.imread(os.path.join(list_image_vmask[i])) / 255.0\n",
        "    _i = cv2.imread(os.path.join(list_image_vp[i]))\n",
        "    _i = cv2.resize(_i, (256, 256), interpolation=cv2.INTER_AREA)\n",
        "    train_m.append(_m * _i)"
      ],
      "metadata": {
        "colab": {
          "base_uri": "https://localhost:8080/"
        },
        "id": "yDQvIycznh2C",
        "outputId": "a82891b7-e1f4-4607-a0f9-67eda4c80e3b"
      },
      "execution_count": null,
      "outputs": [
        {
          "output_type": "stream",
          "name": "stderr",
          "text": [
            "100%|██████████| 1000/1000 [00:05<00:00, 167.49it/s]\n",
            "100%|██████████| 1000/1000 [00:07<00:00, 140.00it/s]\n",
            "100%|██████████| 1000/1000 [00:05<00:00, 166.94it/s]\n",
            "100%|██████████| 1000/1000 [00:06<00:00, 143.48it/s]\n"
          ]
        }
      ]
    },
    {
      "cell_type": "code",
      "source": [
        "test_m = []\n",
        "\n",
        "for i in tqdm(range(200)):\n",
        "    _m = cv2.imread(os.path.join(list_image_nmask[i + 1000])) / 255.0\n",
        "    _i = cv2.imread(os.path.join(list_image_normal[i + 1000]))\n",
        "    _i = cv2.resize(_i, (256, 256), interpolation=cv2.INTER_AREA)\n",
        "    test_m.append(_m * _i)\n",
        "\n",
        "for i in tqdm(range(200)):\n",
        "    _m = cv2.imread(os.path.join(list_image_cmask[i + 1000])) / 255.0\n",
        "    _i = cv2.imread(os.path.join(list_image_covid[i + 1000]))\n",
        "    _i = cv2.resize(_i, (256, 256), interpolation=cv2.INTER_AREA)\n",
        "    test_m.append(_m * _i)\n",
        "\n",
        "for i in tqdm(range(200)):\n",
        "    _m = cv2.imread(os.path.join(list_image_lmask[i + 1000])) / 255.0\n",
        "    _i = cv2.imread(os.path.join(list_image_lo[i + 1000]))\n",
        "    _i = cv2.resize(_i, (256, 256), interpolation=cv2.INTER_AREA)\n",
        "    test_m.append(_m * _i)\n",
        "\n",
        "for i in tqdm(range(200)):\n",
        "    _m = cv2.imread(os.path.join(list_image_vmask[i + 1000])) / 255.0\n",
        "    _i = cv2.imread(os.path.join(list_image_vp[i + 1000]))\n",
        "    _i = cv2.resize(_i, (256, 256), interpolation=cv2.INTER_AREA)\n",
        "    test_m.append(_m * _i)"
      ],
      "metadata": {
        "colab": {
          "base_uri": "https://localhost:8080/"
        },
        "id": "ObzMjvLQ_I8u",
        "outputId": "8e5086e9-ff9f-4d65-9332-e4e61ae5f5d1"
      },
      "execution_count": null,
      "outputs": [
        {
          "output_type": "stream",
          "name": "stderr",
          "text": [
            "100%|██████████| 200/200 [00:01<00:00, 162.68it/s]\n",
            "100%|██████████| 200/200 [00:01<00:00, 158.82it/s]\n",
            "100%|██████████| 200/200 [00:01<00:00, 160.18it/s]\n",
            "100%|██████████| 200/200 [00:01<00:00, 159.89it/s]\n"
          ]
        }
      ]
    },
    {
      "cell_type": "code",
      "source": [
        "train_labels = [0] * 1000 + [1] * 1000 + [2] * 1000 + [3] * 1000"
      ],
      "metadata": {
        "id": "UYDGEjnfDgis"
      },
      "execution_count": null,
      "outputs": []
    },
    {
      "cell_type": "code",
      "source": [
        "test_labels = [0] * 200 + [1] * 200 + [2] * 200 + [3] * 200"
      ],
      "metadata": {
        "id": "zJOzeTgxDpBf"
      },
      "execution_count": null,
      "outputs": []
    },
    {
      "cell_type": "code",
      "source": [
        "# train_labels = np.zeros((4000, 4))\n",
        "# train_labels[:1000, 0] = 1\n",
        "# train_labels[1000:2000, 1] = 1\n",
        "# train_labels[2000:3000, 2] = 1\n",
        "# train_labels[3000:, 3] = 1"
      ],
      "metadata": {
        "id": "P8QYG62FrgpF"
      },
      "execution_count": null,
      "outputs": []
    },
    {
      "cell_type": "code",
      "source": [
        "# test_labels = np.zeros((800, 4))\n",
        "# test_labels[:200, 0] = 1\n",
        "# test_labels[200:400, 1] = 1\n",
        "# test_labels[400:600, 2] = 1\n",
        "# test_labels[600:, 3] = 1"
      ],
      "metadata": {
        "id": "HuS23yoJ_wN2"
      },
      "execution_count": null,
      "outputs": []
    },
    {
      "cell_type": "code",
      "source": [
        "# Without masks\n",
        "train_nm = []\n",
        "\n",
        "for i in tqdm(range(1000)):\n",
        "    # _m = cv2.imread(os.path.join(list_image_nmask[i])) / 255.0\n",
        "    _i = cv2.imread(os.path.join(list_image_normal[i]))\n",
        "    _i = cv2.resize(_i, (256, 256), interpolation=cv2.INTER_AREA)\n",
        "    train_nm.append(_i)\n",
        "\n",
        "for i in tqdm(range(1000)):\n",
        "    # _m = cv2.imread(os.path.join(list_image_cmask[i])) / 255.0\n",
        "    _i = cv2.imread(os.path.join(list_image_covid[i]))\n",
        "    _i = cv2.resize(_i, (256, 256), interpolation=cv2.INTER_AREA)\n",
        "    train_nm.append(_i)\n",
        "\n",
        "for i in tqdm(range(1000)):\n",
        "    # _m = cv2.imread(os.path.join(list_image_lmask[i])) / 255.0\n",
        "    _i = cv2.imread(os.path.join(list_image_lo[i]))\n",
        "    _i = cv2.resize(_i, (256, 256), interpolation=cv2.INTER_AREA)\n",
        "    train_nm.append(_i)\n",
        "\n",
        "for i in tqdm(range(1000)):\n",
        "    # _m = cv2.imread(os.path.join(list_image_vmask[i])) / 255.0\n",
        "    _i = cv2.imread(os.path.join(list_image_vp[i]))\n",
        "    _i = cv2.resize(_i, (256, 256), interpolation=cv2.INTER_AREA)\n",
        "    train_nm.append(_i)"
      ],
      "metadata": {
        "colab": {
          "base_uri": "https://localhost:8080/"
        },
        "id": "D83eNasCrqRx",
        "outputId": "0fc420cc-bda9-4c54-b6ab-950fe2e12063"
      },
      "execution_count": null,
      "outputs": [
        {
          "output_type": "stream",
          "name": "stderr",
          "text": [
            "100%|██████████| 1000/1000 [00:05<00:00, 199.59it/s]\n",
            "100%|██████████| 1000/1000 [00:03<00:00, 291.62it/s]\n",
            "100%|██████████| 1000/1000 [00:03<00:00, 285.54it/s]\n",
            "100%|██████████| 1000/1000 [00:04<00:00, 246.46it/s]\n"
          ]
        }
      ]
    },
    {
      "cell_type": "code",
      "source": [
        "test_nm = []\n",
        "\n",
        "for i in tqdm(range(200)):\n",
        "    _i = cv2.imread(os.path.join(list_image_normal[i + 1000]))\n",
        "    _i = cv2.resize(_i, (256, 256), interpolation=cv2.INTER_AREA)\n",
        "    test_nm.append(_i)\n",
        "\n",
        "for i in tqdm(range(200)):\n",
        "    _i = cv2.imread(os.path.join(list_image_covid[i + 1000]))\n",
        "    _i = cv2.resize(_i, (256, 256), interpolation=cv2.INTER_AREA)\n",
        "    test_nm.append(_i)\n",
        "\n",
        "for i in tqdm(range(200)):\n",
        "    _i = cv2.imread(os.path.join(list_image_lo[i + 1000]))\n",
        "    _i = cv2.resize(_i, (256, 256), interpolation=cv2.INTER_AREA)\n",
        "    test_nm.append(_i)\n",
        "\n",
        "for i in tqdm(range(200)):\n",
        "    _i = cv2.imread(os.path.join(list_image_vp[i + 1000]))\n",
        "    _i = cv2.resize(_i, (256, 256), interpolation=cv2.INTER_AREA)\n",
        "    test_nm.append(_i)"
      ],
      "metadata": {
        "colab": {
          "base_uri": "https://localhost:8080/"
        },
        "id": "z0SMRRGFFo-Y",
        "outputId": "1deb70c3-8c02-40af-cbdc-357dfdc31906"
      },
      "execution_count": null,
      "outputs": [
        {
          "output_type": "stream",
          "name": "stderr",
          "text": [
            "100%|██████████| 200/200 [00:00<00:00, 283.48it/s]\n",
            "100%|██████████| 200/200 [00:00<00:00, 284.49it/s]\n",
            "100%|██████████| 200/200 [00:00<00:00, 294.13it/s]\n",
            "100%|██████████| 200/200 [00:00<00:00, 274.81it/s]\n"
          ]
        }
      ]
    },
    {
      "cell_type": "code",
      "source": [
        "class MyDataset(torch.utils.data.Dataset):\n",
        "    def __init__(self, data, labels, transform=None):\n",
        "        self.data = data\n",
        "        self.labels = labels\n",
        "        self.transform = transform\n",
        "\n",
        "    def __len__(self):\n",
        "        return len(self.data)\n",
        "\n",
        "    def __getitem__(self, idx):\n",
        "        image = self.data[idx] / 255.0\n",
        "        label = self.labels[idx]\n",
        "\n",
        "        if self.transform:\n",
        "            image = self.transform(image)\n",
        "\n",
        "        return image, label"
      ],
      "metadata": {
        "id": "NoWt9ozbvKhq"
      },
      "execution_count": null,
      "outputs": []
    },
    {
      "cell_type": "code",
      "source": [
        "# Rotation\n",
        "def create_training_transformations():\n",
        "    \"\"\"\n",
        "    First, convert the original PIL Images to Tensors,\n",
        "    Second, add random horizontal flip with a probability of .2 (RandomApply is not needed)\n",
        "    Finally, apply random rotation ranging from -36 degrees (clockwise) to 36 degrees (counter clockwise)\n",
        "            with a probability of .2 (Look at RandomApply)\n",
        "    RETURN: torchvision.transforms.v2.Compose object\n",
        "    \"\"\"\n",
        "    transformation = [\n",
        "        v2.ToImage(),\n",
        "        v2.ToDtype(torch.float32, scale=True),\n",
        "        v2.RandomHorizontalFlip(p=0.2),\n",
        "        v2.RandomApply([v2.RandomRotation(degrees=(-36, 36))], p=0.2)\n",
        "    ]\n",
        "    return v2.Compose(transformation)\n",
        "\n",
        "def create_testing_transformations():\n",
        "    \"\"\"\n",
        "    First, convert the original PIL Images to Tensors,\n",
        "    Second, add random horizontal flip with a probability of .2 (RandomApply is not needed)\n",
        "    Finally, apply random rotation ranging from -36 degrees (clockwise) to 36 degrees (counter clockwise)\n",
        "            with a probability of .2 (Look at RandomApply)\n",
        "    RETURN: torchvision.transforms.v2.Compose object\n",
        "    \"\"\"\n",
        "    transformation = [\n",
        "        v2.ToImage(),\n",
        "        v2.ToDtype(torch.float32, scale=True)\n",
        "    ]\n",
        "    return v2.Compose(transformation)"
      ],
      "metadata": {
        "id": "2QpodF_NsMb5"
      },
      "execution_count": null,
      "outputs": []
    },
    {
      "cell_type": "code",
      "source": [
        "# transform = None\n",
        "\n",
        "train_dataset = MyDataset(train_nm, train_labels, create_training_transformations())\n",
        "test_dataset = MyDataset(test_nm, test_labels, create_testing_transformations())\n",
        "# dataloader = torch.utils.data.DataLoader(dataset, batch_size=64, shuffle=True)\n"
      ],
      "metadata": {
        "id": "41m-0nUJvIwS"
      },
      "execution_count": null,
      "outputs": []
    },
    {
      "cell_type": "code",
      "source": [
        "# trainDataloader = torch.utils.data.DataLoader(train_dataset, batch_size=64, shuffle=True)\n",
        "# testDataloader = torch.utils.data.DataLoader(test_dataset, batch_size=64, shuffle=True)"
      ],
      "metadata": {
        "id": "dpA41FhK9jXH"
      },
      "execution_count": null,
      "outputs": []
    },
    {
      "cell_type": "code",
      "source": [
        "# Test image\n",
        "from google.colab.patches import cv2_imshow\n",
        "import torchvision\n",
        "cnt = 0\n",
        "for image, label in testDataloader:\n",
        "    # print(torch.max(image[0]))\n",
        "    out = torchvision.utils.make_grid(image)\n",
        "    plt.imshow(out.permute(1, 2, 0))\n",
        "    # print(label)\n",
        "    break\n"
      ],
      "metadata": {
        "colab": {
          "base_uri": "https://localhost:8080/",
          "height": 435
        },
        "id": "J4-xjy90wcbg",
        "outputId": "445ae89e-5199-4984-ea48-d8c66b72af3c"
      },
      "execution_count": null,
      "outputs": [
        {
          "output_type": "display_data",
          "data": {
            "text/plain": [
              "<Figure size 640x480 with 1 Axes>"
            ],
            "image/png": "[encoded data removed]"
          },
          "metadata": {}
        }
      ]
    },
    {
      "cell_type": "code",
      "source": [
        "# CNN\n",
        "class CNN(nn.Module):\n",
        "    def __init__(self):\n",
        "        super(CNN, self).__init__()\n",
        "\n",
        "        # Convolutional layers\n",
        "        self.feature_extractor = nn.Sequential(\n",
        "            nn.Conv2d(3, 32, kernel_size=3, padding=1),\n",
        "            nn.LeakyReLU(0.01),\n",
        "            nn.MaxPool2d(kernel_size=2, stride=2), # 32 x 128 x 128\n",
        "            nn.Conv2d(32, 64, kernel_size=3, padding=1),\n",
        "            nn.LeakyReLU(0.01),\n",
        "            nn.MaxPool2d(kernel_size=2, stride=2), # 64 x 64 x 64\n",
        "            nn.Dropout(0.3),\n",
        "            nn.Conv2d(64, 64, kernel_size=3, padding=1),\n",
        "            nn.LeakyReLU(0.01),\n",
        "            nn.MaxPool2d(2, 2), # 64 x 32 x 32\n",
        "            nn.Conv2d(64, 64, kernel_size=3, padding=1),\n",
        "            nn.MaxPool2d(2, 2), # 64 x 16 x 16\n",
        "            nn.Dropout(0.3)\n",
        "        )\n",
        "\n",
        "        # self.avg_pooling = nn.AdaptiveAvgPool2d((7, 7))\n",
        "\n",
        "        # Linear layers\n",
        "        self.classifier = nn.Sequential(\n",
        "            nn.Flatten(),\n",
        "            nn.Linear(16 * 16 * 64, 512),\n",
        "            nn.LeakyReLU(0.01),\n",
        "            nn.Dropout(0.3),\n",
        "            nn.Linear(512, 128),\n",
        "            nn.LeakyReLU(0.01),\n",
        "            nn.Dropout(0.3),\n",
        "            nn.Linear(128, 4)\n",
        "        )\n",
        "\n",
        "    def forward(self, x):\n",
        "        x = self.feature_extractor(x)\n",
        "        # x = self.avg_pooling(x)\n",
        "        x = self.classifier(x)\n",
        "\n",
        "        return x"
      ],
      "metadata": {
        "id": "JMY8D7prxM-f"
      },
      "execution_count": null,
      "outputs": []
    },
    {
      "cell_type": "code",
      "source": [
        "from torchvision.models import resnet34, ResNet34_Weights\n",
        "model = resnet34(weights=ResNet34_Weights.IMAGENET1K_V1)\n",
        "\n",
        "for params in model.parameters():\n",
        "    params.requires_grad = False\n",
        "model"
      ],
      "metadata": {
        "colab": {
          "base_uri": "https://localhost:8080/"
        },
        "id": "iubBxzYPppmS",
        "outputId": "5e6fa919-fb34-4394-f2c1-5421ca75c31d"
      },
      "execution_count": null,
      "outputs": [
        {
          "output_type": "stream",
          "name": "stderr",
          "text": [
            "Downloading: \"https://download.pytorch.org/models/resnet34-b627a593.pth\" to /root/.cache/torch/hub/checkpoints/resnet34-b627a593.pth\n",
            "100%|██████████| 83.3M/83.3M [00:00<00:00, 90.6MB/s]\n"
          ]
        },
        {
          "output_type": "execute_result",
          "data": {
            "text/plain": [
              "ResNet(\n",
              "  (conv1): Conv2d(3, 64, kernel_size=(7, 7), stride=(2, 2), padding=(3, 3), bias=False)\n",
              "  (bn1): BatchNorm2d(64, eps=1e-05, momentum=0.1, affine=True, track_running_stats=True)\n",
              "  (relu): ReLU(inplace=True)\n",
              "  (maxpool): MaxPool2d(kernel_size=3, stride=2, padding=1, dilation=1, ceil_mode=False)\n",
              "  (layer1): Sequential(\n",
              "    (0): BasicBlock(\n",
              "      (conv1): Conv2d(64, 64, kernel_size=(3, 3), stride=(1, 1), padding=(1, 1), bias=False)\n",
              "      (bn1): BatchNorm2d(64, eps=1e-05, momentum=0.1, affine=True, track_running_stats=True)\n",
              "      (relu): ReLU(inplace=True)\n",
              "      (conv2): Conv2d(64, 64, kernel_size=(3, 3), stride=(1, 1), padding=(1, 1), bias=False)\n",
              "      (bn2): BatchNorm2d(64, eps=1e-05, momentum=0.1, affine=True, track_running_stats=True)\n",
              "    )\n",
              "    (1): BasicBlock(\n",
              "      (conv1): Conv2d(64, 64, kernel_size=(3, 3), stride=(1, 1), padding=(1, 1), bias=False)\n",
              "      (bn1): BatchNorm2d(64, eps=1e-05, momentum=0.1, affine=True, track_running_stats=True)\n",
              "      (relu): ReLU(inplace=True)\n",
              "      (conv2): Conv2d(64, 64, kernel_size=(3, 3), stride=(1, 1), padding=(1, 1), bias=False)\n",
              "      (bn2): BatchNorm2d(64, eps=1e-05, momentum=0.1, affine=True, track_running_stats=True)\n",
              "    )\n",
              "    (2): BasicBlock(\n",
              "      (conv1): Conv2d(64, 64, kernel_size=(3, 3), stride=(1, 1), padding=(1, 1), bias=False)\n",
              "      (bn1): BatchNorm2d(64, eps=1e-05, momentum=0.1, affine=True, track_running_stats=True)\n",
              "      (relu): ReLU(inplace=True)\n",
              "      (conv2): Conv2d(64, 64, kernel_size=(3, 3), stride=(1, 1), padding=(1, 1), bias=False)\n",
              "      (bn2): BatchNorm2d(64, eps=1e-05, momentum=0.1, affine=True, track_running_stats=True)\n",
              "    )\n",
              "  )\n",
              "  (layer2): Sequential(\n",
              "    (0): BasicBlock(\n",
              "      (conv1): Conv2d(64, 128, kernel_size=(3, 3), stride=(2, 2), padding=(1, 1), bias=False)\n",
              "      (bn1): BatchNorm2d(128, eps=1e-05, momentum=0.1, affine=True, track_running_stats=True)\n",
              "      (relu): ReLU(inplace=True)\n",
              "      (conv2): Conv2d(128, 128, kernel_size=(3, 3), stride=(1, 1), padding=(1, 1), bias=False)\n",
              "      (bn2): BatchNorm2d(128, eps=1e-05, momentum=0.1, affine=True, track_running_stats=True)\n",
              "      (downsample): Sequential(\n",
              "        (0): Conv2d(64, 128, kernel_size=(1, 1), stride=(2, 2), bias=False)\n",
              "        (1): BatchNorm2d(128, eps=1e-05, momentum=0.1, affine=True, track_running_stats=True)\n",
              "      )\n",
              "    )\n",
              "    (1): BasicBlock(\n",
              "      (conv1): Conv2d(128, 128, kernel_size=(3, 3), stride=(1, 1), padding=(1, 1), bias=False)\n",
              "      (bn1): BatchNorm2d(128, eps=1e-05, momentum=0.1, affine=True, track_running_stats=True)\n",
              "      (relu): ReLU(inplace=True)\n",
              "      (conv2): Conv2d(128, 128, kernel_size=(3, 3), stride=(1, 1), padding=(1, 1), bias=False)\n",
              "      (bn2): BatchNorm2d(128, eps=1e-05, momentum=0.1, affine=True, track_running_stats=True)\n",
              "    )\n",
              "    (2): BasicBlock(\n",
              "      (conv1): Conv2d(128, 128, kernel_size=(3, 3), stride=(1, 1), padding=(1, 1), bias=False)\n",
              "      (bn1): BatchNorm2d(128, eps=1e-05, momentum=0.1, affine=True, track_running_stats=True)\n",
              "      (relu): ReLU(inplace=True)\n",
              "      (conv2): Conv2d(128, 128, kernel_size=(3, 3), stride=(1, 1), padding=(1, 1), bias=False)\n",
              "      (bn2): BatchNorm2d(128, eps=1e-05, momentum=0.1, affine=True, track_running_stats=True)\n",
              "    )\n",
              "    (3): BasicBlock(\n",
              "      (conv1): Conv2d(128, 128, kernel_size=(3, 3), stride=(1, 1), padding=(1, 1), bias=False)\n",
              "      (bn1): BatchNorm2d(128, eps=1e-05, momentum=0.1, affine=True, track_running_stats=True)\n",
              "      (relu): ReLU(inplace=True)\n",
              "      (conv2): Conv2d(128, 128, kernel_size=(3, 3), stride=(1, 1), padding=(1, 1), bias=False)\n",
              "      (bn2): BatchNorm2d(128, eps=1e-05, momentum=0.1, affine=True, track_running_stats=True)\n",
              "    )\n",
              "  )\n",
              "  (layer3): Sequential(\n",
              "    (0): BasicBlock(\n",
              "      (conv1): Conv2d(128, 256, kernel_size=(3, 3), stride=(2, 2), padding=(1, 1), bias=False)\n",
              "      (bn1): BatchNorm2d(256, eps=1e-05, momentum=0.1, affine=True, track_running_stats=True)\n",
              "      (relu): ReLU(inplace=True)\n",
              "      (conv2): Conv2d(256, 256, kernel_size=(3, 3), stride=(1, 1), padding=(1, 1), bias=False)\n",
              "      (bn2): BatchNorm2d(256, eps=1e-05, momentum=0.1, affine=True, track_running_stats=True)\n",
              "      (downsample): Sequential(\n",
              "        (0): Conv2d(128, 256, kernel_size=(1, 1), stride=(2, 2), bias=False)\n",
              "        (1): BatchNorm2d(256, eps=1e-05, momentum=0.1, affine=True, track_running_stats=True)\n",
              "      )\n",
              "    )\n",
              "    (1): BasicBlock(\n",
              "      (conv1): Conv2d(256, 256, kernel_size=(3, 3), stride=(1, 1), padding=(1, 1), bias=False)\n",
              "      (bn1): BatchNorm2d(256, eps=1e-05, momentum=0.1, affine=True, track_running_stats=True)\n",
              "      (relu): ReLU(inplace=True)\n",
              "      (conv2): Conv2d(256, 256, kernel_size=(3, 3), stride=(1, 1), padding=(1, 1), bias=False)\n",
              "      (bn2): BatchNorm2d(256, eps=1e-05, momentum=0.1, affine=True, track_running_stats=True)\n",
              "    )\n",
              "    (2): BasicBlock(\n",
              "      (conv1): Conv2d(256, 256, kernel_size=(3, 3), stride=(1, 1), padding=(1, 1), bias=False)\n",
              "      (bn1): BatchNorm2d(256, eps=1e-05, momentum=0.1, affine=True, track_running_stats=True)\n",
              "      (relu): ReLU(inplace=True)\n",
              "      (conv2): Conv2d(256, 256, kernel_size=(3, 3), stride=(1, 1), padding=(1, 1), bias=False)\n",
              "      (bn2): BatchNorm2d(256, eps=1e-05, momentum=0.1, affine=True, track_running_stats=True)\n",
              "    )\n",
              "    (3): BasicBlock(\n",
              "      (conv1): Conv2d(256, 256, kernel_size=(3, 3), stride=(1, 1), padding=(1, 1), bias=False)\n",
              "      (bn1): BatchNorm2d(256, eps=1e-05, momentum=0.1, affine=True, track_running_stats=True)\n",
              "      (relu): ReLU(inplace=True)\n",
              "      (conv2): Conv2d(256, 256, kernel_size=(3, 3), stride=(1, 1), padding=(1, 1), bias=False)\n",
              "      (bn2): BatchNorm2d(256, eps=1e-05, momentum=0.1, affine=True, track_running_stats=True)\n",
              "    )\n",
              "    (4): BasicBlock(\n",
              "      (conv1): Conv2d(256, 256, kernel_size=(3, 3), stride=(1, 1), padding=(1, 1), bias=False)\n",
              "      (bn1): BatchNorm2d(256, eps=1e-05, momentum=0.1, affine=True, track_running_stats=True)\n",
              "      (relu): ReLU(inplace=True)\n",
              "      (conv2): Conv2d(256, 256, kernel_size=(3, 3), stride=(1, 1), padding=(1, 1), bias=False)\n",
              "      (bn2): BatchNorm2d(256, eps=1e-05, momentum=0.1, affine=True, track_running_stats=True)\n",
              "    )\n",
              "    (5): BasicBlock(\n",
              "      (conv1): Conv2d(256, 256, kernel_size=(3, 3), stride=(1, 1), padding=(1, 1), bias=False)\n",
              "      (bn1): BatchNorm2d(256, eps=1e-05, momentum=0.1, affine=True, track_running_stats=True)\n",
              "      (relu): ReLU(inplace=True)\n",
              "      (conv2): Conv2d(256, 256, kernel_size=(3, 3), stride=(1, 1), padding=(1, 1), bias=False)\n",
              "      (bn2): BatchNorm2d(256, eps=1e-05, momentum=0.1, affine=True, track_running_stats=True)\n",
              "    )\n",
              "  )\n",
              "  (layer4): Sequential(\n",
              "    (0): BasicBlock(\n",
              "      (conv1): Conv2d(256, 512, kernel_size=(3, 3), stride=(2, 2), padding=(1, 1), bias=False)\n",
              "      (bn1): BatchNorm2d(512, eps=1e-05, momentum=0.1, affine=True, track_running_stats=True)\n",
              "      (relu): ReLU(inplace=True)\n",
              "      (conv2): Conv2d(512, 512, kernel_size=(3, 3), stride=(1, 1), padding=(1, 1), bias=False)\n",
              "      (bn2): BatchNorm2d(512, eps=1e-05, momentum=0.1, affine=True, track_running_stats=True)\n",
              "      (downsample): Sequential(\n",
              "        (0): Conv2d(256, 512, kernel_size=(1, 1), stride=(2, 2), bias=False)\n",
              "        (1): BatchNorm2d(512, eps=1e-05, momentum=0.1, affine=True, track_running_stats=True)\n",
              "      )\n",
              "    )\n",
              "    (1): BasicBlock(\n",
              "      (conv1): Conv2d(512, 512, kernel_size=(3, 3), stride=(1, 1), padding=(1, 1), bias=False)\n",
              "      (bn1): BatchNorm2d(512, eps=1e-05, momentum=0.1, affine=True, track_running_stats=True)\n",
              "      (relu): ReLU(inplace=True)\n",
              "      (conv2): Conv2d(512, 512, kernel_size=(3, 3), stride=(1, 1), padding=(1, 1), bias=False)\n",
              "      (bn2): BatchNorm2d(512, eps=1e-05, momentum=0.1, affine=True, track_running_stats=True)\n",
              "    )\n",
              "    (2): BasicBlock(\n",
              "      (conv1): Conv2d(512, 512, kernel_size=(3, 3), stride=(1, 1), padding=(1, 1), bias=False)\n",
              "      (bn1): BatchNorm2d(512, eps=1e-05, momentum=0.1, affine=True, track_running_stats=True)\n",
              "      (relu): ReLU(inplace=True)\n",
              "      (conv2): Conv2d(512, 512, kernel_size=(3, 3), stride=(1, 1), padding=(1, 1), bias=False)\n",
              "      (bn2): BatchNorm2d(512, eps=1e-05, momentum=0.1, affine=True, track_running_stats=True)\n",
              "    )\n",
              "  )\n",
              "  (avgpool): AdaptiveAvgPool2d(output_size=(1, 1))\n",
              "  (fc): Linear(in_features=512, out_features=1000, bias=True)\n",
              ")"
            ]
          },
          "metadata": {},
          "execution_count": 24
        }
      ]
    },
    {
      "cell_type": "code",
      "source": [
        "num_ftrs = model.fc.in_features\n",
        "model.fc = nn.Linear(num_ftrs, 4)\n",
        "model.fc.requires_grad = True"
      ],
      "metadata": {
        "id": "wWmHxJbMq77Z"
      },
      "execution_count": null,
      "outputs": []
    },
    {
      "cell_type": "code",
      "source": [
        "from torch.optim import Adamax\n",
        "from torch.optim.lr_scheduler import ExponentialLR\n",
        "class Trainer():\n",
        "    def __init__(self, model, trainset, testset, num_epochs=5, batch_size=16, init_lr=1e-3, device=\"cpu\"):\n",
        "        self.model = model.to(device)\n",
        "        self.trainset = trainset\n",
        "        self.testset = testset\n",
        "        self.num_epochs = num_epochs\n",
        "        self.batch_size = batch_size\n",
        "        self.init_lr = init_lr\n",
        "        self.device = device\n",
        "\n",
        "        self.train_loss_per_epoch = []\n",
        "        self.train_accuracy_per_epoch = []\n",
        "        self.test_loss_per_epoch = []\n",
        "        self.test_accuracy_per_epoch = []\n",
        "\n",
        "    def train(self):\n",
        "        trainloader = torch.utils.data.DataLoader(self.trainset, batch_size=self.batch_size,\n",
        "                                            shuffle=True, num_workers=2)\n",
        "        testloader = torch.utils.data.DataLoader(self.testset, batch_size=self.batch_size,\n",
        "                                            shuffle=False, num_workers=2)\n",
        "\n",
        "        loss_fn = nn.CrossEntropyLoss()\n",
        "        optimizer = Adamax(self.model.parameters(), lr=self.init_lr)\n",
        "        scheduler = ExponentialLR(optimizer, gamma=0.9)\n",
        "\n",
        "        for epoch in range(self.num_epochs):\n",
        "            self.model.train()\n",
        "            running_loss = 0\n",
        "            correct = 0\n",
        "            total = 0\n",
        "            with tqdm(trainloader, unit=\"batch\") as tepoch:\n",
        "                tepoch.set_description(f\"Epoch {epoch + 1}/{self.num_epochs}\")\n",
        "                for idx, data in enumerate(tepoch):\n",
        "                    inputs, labels = data\n",
        "                    inputs, labels = inputs.to(self.device), labels.to(self.device)\n",
        "\n",
        "                    optimizer.zero_grad()\n",
        "                    outputs = self.model(inputs)\n",
        "                    loss = loss_fn(outputs, labels)\n",
        "                    loss.backward()\n",
        "                    optimizer.step()\n",
        "\n",
        "                    total += len(labels)\n",
        "                    correct += (outputs.argmax(dim=1) == labels).sum().item()\n",
        "                    running_loss += loss.item()\n",
        "                    tepoch.set_postfix(loss=running_loss / (idx + 1), accuracy=correct / total)\n",
        "            scheduler.step()\n",
        "            self.train_loss_per_epoch.append(running_loss / len(trainloader))\n",
        "            self.train_accuracy_per_epoch.append(correct / total)\n",
        "            print(\"torch.cuda.memory_allocated: %fGB\"%(torch.cuda.memory_allocated(0)/1024/1024/1024))\n",
        "            print(\"torch.cuda.memory_reserved: %fGB\"%(torch.cuda.memory_reserved(0)/1024/1024/1024))\n",
        "            print(\"torch.cuda.max_memory_reserved: %fGB\"%(torch.cuda.max_memory_reserved(0)/1024/1024/1024))\n",
        "            # validation\n",
        "            self.model.eval()\n",
        "            with torch.no_grad():\n",
        "                test_loss = 0\n",
        "                test_correct = 0\n",
        "                test_total = 0\n",
        "                for idx, data in enumerate(testloader):\n",
        "                    inputs, labels = data\n",
        "                    inputs, labels = inputs.to(self.device), labels.to(self.device)\n",
        "                    outputs = self.model(inputs)\n",
        "                    loss = loss_fn(outputs, labels)\n",
        "                    test_loss += loss.item()\n",
        "                    test_total += len(labels)\n",
        "                    test_correct += (outputs.argmax(dim=1) == labels).sum().item()\n",
        "                print(f\"Epoch {epoch + 1}: Validation Loss: {test_loss / len(testloader):.2f}, Validation Accuracy: {test_correct / test_total:.3f}\")\n",
        "                self.test_loss_per_epoch.append(test_loss / len(testloader))\n",
        "                self.test_accuracy_per_epoch.append(test_correct / test_total)\n",
        "\n",
        "\n",
        "    def get_training_history(self):\n",
        "        return (self.train_loss_per_epoch,\n",
        "                self.train_accuracy_per_epoch,\n",
        "                self.test_loss_per_epoch,\n",
        "                self.test_accuracy_per_epoch\n",
        "                )\n",
        "\n",
        "    def predict(self, testloader):\n",
        "        self.model.eval()\n",
        "        predict_probs = []\n",
        "        predictions = []\n",
        "        ground_truth = []\n",
        "\n",
        "        with torch.no_grad():\n",
        "            for data in testloader:\n",
        "                inputs, labels = data\n",
        "                inputs, labels = inputs.to(self.device), labels.to(self.device)\n",
        "\n",
        "                outputs = self.model(inputs)\n",
        "                predict_probs.append(F.softmax(outputs, dim=1))\n",
        "                predictions.append(outputs.argmax(dim=1))\n",
        "                ground_truth.append(labels)\n",
        "\n",
        "        return torch.cat(predict_probs).cpu(), torch.cat(predictions).cpu(), torch.cat(ground_truth).cpu()"
      ],
      "metadata": {
        "id": "T8nNBC4UBCas"
      },
      "execution_count": null,
      "outputs": []
    },
    {
      "cell_type": "code",
      "source": [
        "net = CNN()"
      ],
      "metadata": {
        "id": "nHcb4mdeoVqw"
      },
      "execution_count": null,
      "outputs": []
    },
    {
      "cell_type": "code",
      "source": [
        "net = model"
      ],
      "metadata": {
        "id": "G0or0fHPoVVZ"
      },
      "execution_count": null,
      "outputs": []
    },
    {
      "cell_type": "code",
      "source": [
        "\n",
        "num_epochs = 20\n",
        "batch_size = 16\n",
        "lr = 5e-3\n",
        "\n",
        "device = (\"cuda\" if torch.cuda.is_available()\n",
        "          else \"cpu\")\n",
        "print(f\"Using {device} device\")\n",
        "\n",
        "trainer = Trainer(net, train_dataset, test_dataset, num_epochs=num_epochs, batch_size=batch_size, init_lr=lr, device=device)\n",
        "trainer.train()"
      ],
      "metadata": {
        "colab": {
          "base_uri": "https://localhost:8080/"
        },
        "id": "O_kbzgV277--",
        "outputId": "e80a6348-3a78-4346-b6cb-e5e3527daef2"
      },
      "execution_count": null,
      "outputs": [
        {
          "output_type": "stream",
          "name": "stdout",
          "text": [
            "Using cuda device\n"
          ]
        },
        {
          "output_type": "stream",
          "name": "stderr",
          "text": [
            "Epoch 1/20: 100%|██████████| 250/250 [00:15<00:00, 16.32batch/s, accuracy=0.681, loss=0.79]"
          ]
        },
        {
          "output_type": "stream",
          "name": "stdout",
          "text": [
            "torch.cuda.memory_allocated: 0.720148GB\n",
            "torch.cuda.memory_reserved: 2.185547GB\n",
            "torch.cuda.max_memory_reserved: 2.185547GB\n"
          ]
        },
        {
          "output_type": "stream",
          "name": "stderr",
          "text": [
            "\n"
          ]
        },
        {
          "output_type": "stream",
          "name": "stdout",
          "text": [
            "Epoch 1: Validation Loss: 0.51, Validation Accuracy: 0.812\n"
          ]
        },
        {
          "output_type": "stream",
          "name": "stderr",
          "text": [
            "Epoch 2/20: 100%|██████████| 250/250 [00:15<00:00, 16.64batch/s, accuracy=0.759, loss=0.607]"
          ]
        },
        {
          "output_type": "stream",
          "name": "stdout",
          "text": [
            "torch.cuda.memory_allocated: 0.720148GB\n",
            "torch.cuda.memory_reserved: 2.185547GB\n",
            "torch.cuda.max_memory_reserved: 2.185547GB\n"
          ]
        },
        {
          "output_type": "stream",
          "name": "stderr",
          "text": [
            "\n"
          ]
        },
        {
          "output_type": "stream",
          "name": "stdout",
          "text": [
            "Epoch 2: Validation Loss: 0.42, Validation Accuracy: 0.858\n"
          ]
        },
        {
          "output_type": "stream",
          "name": "stderr",
          "text": [
            "Epoch 3/20: 100%|██████████| 250/250 [00:14<00:00, 16.72batch/s, accuracy=0.791, loss=0.552]"
          ]
        },
        {
          "output_type": "stream",
          "name": "stdout",
          "text": [
            "torch.cuda.memory_allocated: 0.720148GB\n",
            "torch.cuda.memory_reserved: 2.185547GB\n",
            "torch.cuda.max_memory_reserved: 2.185547GB\n"
          ]
        },
        {
          "output_type": "stream",
          "name": "stderr",
          "text": [
            "\n"
          ]
        },
        {
          "output_type": "stream",
          "name": "stdout",
          "text": [
            "Epoch 3: Validation Loss: 0.44, Validation Accuracy: 0.833\n"
          ]
        },
        {
          "output_type": "stream",
          "name": "stderr",
          "text": [
            "Epoch 4/20: 100%|██████████| 250/250 [00:15<00:00, 16.55batch/s, accuracy=0.79, loss=0.53]"
          ]
        },
        {
          "output_type": "stream",
          "name": "stdout",
          "text": [
            "torch.cuda.memory_allocated: 0.720148GB\n",
            "torch.cuda.memory_reserved: 2.185547GB\n",
            "torch.cuda.max_memory_reserved: 2.185547GB\n"
          ]
        },
        {
          "output_type": "stream",
          "name": "stderr",
          "text": [
            "\n"
          ]
        },
        {
          "output_type": "stream",
          "name": "stdout",
          "text": [
            "Epoch 4: Validation Loss: 0.39, Validation Accuracy: 0.866\n"
          ]
        },
        {
          "output_type": "stream",
          "name": "stderr",
          "text": [
            "Epoch 5/20: 100%|██████████| 250/250 [00:15<00:00, 16.37batch/s, accuracy=0.799, loss=0.518]"
          ]
        },
        {
          "output_type": "stream",
          "name": "stdout",
          "text": [
            "torch.cuda.memory_allocated: 0.720148GB\n",
            "torch.cuda.memory_reserved: 2.185547GB\n",
            "torch.cuda.max_memory_reserved: 2.185547GB\n"
          ]
        },
        {
          "output_type": "stream",
          "name": "stderr",
          "text": [
            "\n"
          ]
        },
        {
          "output_type": "stream",
          "name": "stdout",
          "text": [
            "Epoch 5: Validation Loss: 0.37, Validation Accuracy: 0.870\n"
          ]
        },
        {
          "output_type": "stream",
          "name": "stderr",
          "text": [
            "Epoch 6/20: 100%|██████████| 250/250 [00:15<00:00, 16.47batch/s, accuracy=0.797, loss=0.514]"
          ]
        },
        {
          "output_type": "stream",
          "name": "stdout",
          "text": [
            "torch.cuda.memory_allocated: 0.720148GB\n",
            "torch.cuda.memory_reserved: 2.185547GB\n",
            "torch.cuda.max_memory_reserved: 2.185547GB\n"
          ]
        },
        {
          "output_type": "stream",
          "name": "stderr",
          "text": [
            "\n"
          ]
        },
        {
          "output_type": "stream",
          "name": "stdout",
          "text": [
            "Epoch 6: Validation Loss: 0.41, Validation Accuracy: 0.855\n"
          ]
        },
        {
          "output_type": "stream",
          "name": "stderr",
          "text": [
            "Epoch 7/20: 100%|██████████| 250/250 [00:15<00:00, 16.43batch/s, accuracy=0.819, loss=0.476]"
          ]
        },
        {
          "output_type": "stream",
          "name": "stdout",
          "text": [
            "torch.cuda.memory_allocated: 0.720148GB\n",
            "torch.cuda.memory_reserved: 2.185547GB\n",
            "torch.cuda.max_memory_reserved: 2.185547GB\n"
          ]
        },
        {
          "output_type": "stream",
          "name": "stderr",
          "text": [
            "\n"
          ]
        },
        {
          "output_type": "stream",
          "name": "stdout",
          "text": [
            "Epoch 7: Validation Loss: 0.37, Validation Accuracy: 0.863\n"
          ]
        },
        {
          "output_type": "stream",
          "name": "stderr",
          "text": [
            "Epoch 8/20: 100%|██████████| 250/250 [00:15<00:00, 16.56batch/s, accuracy=0.817, loss=0.469]"
          ]
        },
        {
          "output_type": "stream",
          "name": "stdout",
          "text": [
            "torch.cuda.memory_allocated: 0.720148GB\n",
            "torch.cuda.memory_reserved: 2.185547GB\n",
            "torch.cuda.max_memory_reserved: 2.185547GB\n"
          ]
        },
        {
          "output_type": "stream",
          "name": "stderr",
          "text": [
            "\n"
          ]
        },
        {
          "output_type": "stream",
          "name": "stdout",
          "text": [
            "Epoch 8: Validation Loss: 0.37, Validation Accuracy: 0.873\n"
          ]
        },
        {
          "output_type": "stream",
          "name": "stderr",
          "text": [
            "Epoch 9/20: 100%|██████████| 250/250 [00:15<00:00, 16.64batch/s, accuracy=0.832, loss=0.457]"
          ]
        },
        {
          "output_type": "stream",
          "name": "stdout",
          "text": [
            "torch.cuda.memory_allocated: 0.720148GB\n",
            "torch.cuda.memory_reserved: 2.185547GB\n",
            "torch.cuda.max_memory_reserved: 2.185547GB\n"
          ]
        },
        {
          "output_type": "stream",
          "name": "stderr",
          "text": [
            "\n"
          ]
        },
        {
          "output_type": "stream",
          "name": "stdout",
          "text": [
            "Epoch 9: Validation Loss: 0.36, Validation Accuracy: 0.877\n"
          ]
        },
        {
          "output_type": "stream",
          "name": "stderr",
          "text": [
            "Epoch 10/20: 100%|██████████| 250/250 [00:14<00:00, 16.70batch/s, accuracy=0.822, loss=0.47]"
          ]
        },
        {
          "output_type": "stream",
          "name": "stdout",
          "text": [
            "torch.cuda.memory_allocated: 0.720148GB\n",
            "torch.cuda.memory_reserved: 2.185547GB\n",
            "torch.cuda.max_memory_reserved: 2.185547GB\n"
          ]
        },
        {
          "output_type": "stream",
          "name": "stderr",
          "text": [
            "\n"
          ]
        },
        {
          "output_type": "stream",
          "name": "stdout",
          "text": [
            "Epoch 10: Validation Loss: 0.36, Validation Accuracy: 0.875\n"
          ]
        },
        {
          "output_type": "stream",
          "name": "stderr",
          "text": [
            "Epoch 11/20: 100%|██████████| 250/250 [00:15<00:00, 16.55batch/s, accuracy=0.82, loss=0.454]"
          ]
        },
        {
          "output_type": "stream",
          "name": "stdout",
          "text": [
            "torch.cuda.memory_allocated: 0.720148GB\n",
            "torch.cuda.memory_reserved: 2.185547GB\n",
            "torch.cuda.max_memory_reserved: 2.185547GB\n"
          ]
        },
        {
          "output_type": "stream",
          "name": "stderr",
          "text": [
            "\n"
          ]
        },
        {
          "output_type": "stream",
          "name": "stdout",
          "text": [
            "Epoch 11: Validation Loss: 0.37, Validation Accuracy: 0.863\n"
          ]
        },
        {
          "output_type": "stream",
          "name": "stderr",
          "text": [
            "Epoch 12/20: 100%|██████████| 250/250 [00:15<00:00, 16.07batch/s, accuracy=0.827, loss=0.459]"
          ]
        },
        {
          "output_type": "stream",
          "name": "stdout",
          "text": [
            "torch.cuda.memory_allocated: 0.720148GB\n",
            "torch.cuda.memory_reserved: 2.185547GB\n",
            "torch.cuda.max_memory_reserved: 2.185547GB\n"
          ]
        },
        {
          "output_type": "stream",
          "name": "stderr",
          "text": [
            "\n"
          ]
        },
        {
          "output_type": "stream",
          "name": "stdout",
          "text": [
            "Epoch 12: Validation Loss: 0.35, Validation Accuracy: 0.876\n"
          ]
        },
        {
          "output_type": "stream",
          "name": "stderr",
          "text": [
            "Epoch 13/20: 100%|██████████| 250/250 [00:15<00:00, 16.58batch/s, accuracy=0.825, loss=0.443]"
          ]
        },
        {
          "output_type": "stream",
          "name": "stdout",
          "text": [
            "torch.cuda.memory_allocated: 0.720148GB\n",
            "torch.cuda.memory_reserved: 2.185547GB\n",
            "torch.cuda.max_memory_reserved: 2.185547GB\n"
          ]
        },
        {
          "output_type": "stream",
          "name": "stderr",
          "text": [
            "\n"
          ]
        },
        {
          "output_type": "stream",
          "name": "stdout",
          "text": [
            "Epoch 13: Validation Loss: 0.36, Validation Accuracy: 0.865\n"
          ]
        },
        {
          "output_type": "stream",
          "name": "stderr",
          "text": [
            "Epoch 14/20: 100%|██████████| 250/250 [00:14<00:00, 16.77batch/s, accuracy=0.827, loss=0.447]"
          ]
        },
        {
          "output_type": "stream",
          "name": "stdout",
          "text": [
            "torch.cuda.memory_allocated: 0.720148GB\n",
            "torch.cuda.memory_reserved: 2.185547GB\n",
            "torch.cuda.max_memory_reserved: 2.185547GB\n"
          ]
        },
        {
          "output_type": "stream",
          "name": "stderr",
          "text": [
            "\n"
          ]
        },
        {
          "output_type": "stream",
          "name": "stdout",
          "text": [
            "Epoch 14: Validation Loss: 0.36, Validation Accuracy: 0.870\n"
          ]
        },
        {
          "output_type": "stream",
          "name": "stderr",
          "text": [
            "Epoch 15/20: 100%|██████████| 250/250 [00:15<00:00, 16.41batch/s, accuracy=0.829, loss=0.439]"
          ]
        },
        {
          "output_type": "stream",
          "name": "stdout",
          "text": [
            "torch.cuda.memory_allocated: 0.720148GB\n",
            "torch.cuda.memory_reserved: 2.185547GB\n",
            "torch.cuda.max_memory_reserved: 2.185547GB\n"
          ]
        },
        {
          "output_type": "stream",
          "name": "stderr",
          "text": [
            "\n"
          ]
        },
        {
          "output_type": "stream",
          "name": "stdout",
          "text": [
            "Epoch 15: Validation Loss: 0.35, Validation Accuracy: 0.874\n"
          ]
        },
        {
          "output_type": "stream",
          "name": "stderr",
          "text": [
            "Epoch 16/20: 100%|██████████| 250/250 [00:15<00:00, 16.49batch/s, accuracy=0.822, loss=0.452]"
          ]
        },
        {
          "output_type": "stream",
          "name": "stdout",
          "text": [
            "torch.cuda.memory_allocated: 0.720148GB\n",
            "torch.cuda.memory_reserved: 2.185547GB\n",
            "torch.cuda.max_memory_reserved: 2.185547GB\n"
          ]
        },
        {
          "output_type": "stream",
          "name": "stderr",
          "text": [
            "\n"
          ]
        },
        {
          "output_type": "stream",
          "name": "stdout",
          "text": [
            "Epoch 16: Validation Loss: 0.36, Validation Accuracy: 0.874\n"
          ]
        },
        {
          "output_type": "stream",
          "name": "stderr",
          "text": [
            "Epoch 17/20: 100%|██████████| 250/250 [00:15<00:00, 16.01batch/s, accuracy=0.839, loss=0.43]"
          ]
        },
        {
          "output_type": "stream",
          "name": "stdout",
          "text": [
            "torch.cuda.memory_allocated: 0.720148GB\n",
            "torch.cuda.memory_reserved: 2.185547GB\n",
            "torch.cuda.max_memory_reserved: 2.185547GB\n"
          ]
        },
        {
          "output_type": "stream",
          "name": "stderr",
          "text": [
            "\n"
          ]
        },
        {
          "output_type": "stream",
          "name": "stdout",
          "text": [
            "Epoch 17: Validation Loss: 0.36, Validation Accuracy: 0.874\n"
          ]
        },
        {
          "output_type": "stream",
          "name": "stderr",
          "text": [
            "Epoch 18/20: 100%|██████████| 250/250 [00:15<00:00, 16.24batch/s, accuracy=0.836, loss=0.431]"
          ]
        },
        {
          "output_type": "stream",
          "name": "stdout",
          "text": [
            "torch.cuda.memory_allocated: 0.720148GB\n",
            "torch.cuda.memory_reserved: 2.185547GB\n",
            "torch.cuda.max_memory_reserved: 2.185547GB\n"
          ]
        },
        {
          "output_type": "stream",
          "name": "stderr",
          "text": [
            "\n"
          ]
        },
        {
          "output_type": "stream",
          "name": "stdout",
          "text": [
            "Epoch 18: Validation Loss: 0.36, Validation Accuracy: 0.873\n"
          ]
        },
        {
          "output_type": "stream",
          "name": "stderr",
          "text": [
            "Epoch 19/20: 100%|██████████| 250/250 [00:15<00:00, 16.19batch/s, accuracy=0.826, loss=0.438]"
          ]
        },
        {
          "output_type": "stream",
          "name": "stdout",
          "text": [
            "torch.cuda.memory_allocated: 0.720148GB\n",
            "torch.cuda.memory_reserved: 2.185547GB\n",
            "torch.cuda.max_memory_reserved: 2.185547GB\n"
          ]
        },
        {
          "output_type": "stream",
          "name": "stderr",
          "text": [
            "\n"
          ]
        },
        {
          "output_type": "stream",
          "name": "stdout",
          "text": [
            "Epoch 19: Validation Loss: 0.35, Validation Accuracy: 0.873\n"
          ]
        },
        {
          "output_type": "stream",
          "name": "stderr",
          "text": [
            "Epoch 20/20: 100%|██████████| 250/250 [00:15<00:00, 16.04batch/s, accuracy=0.841, loss=0.429]"
          ]
        },
        {
          "output_type": "stream",
          "name": "stdout",
          "text": [
            "torch.cuda.memory_allocated: 0.720148GB\n",
            "torch.cuda.memory_reserved: 2.185547GB\n",
            "torch.cuda.max_memory_reserved: 2.185547GB\n"
          ]
        },
        {
          "output_type": "stream",
          "name": "stderr",
          "text": [
            "\n"
          ]
        },
        {
          "output_type": "stream",
          "name": "stdout",
          "text": [
            "Epoch 20: Validation Loss: 0.35, Validation Accuracy: 0.870\n"
          ]
        }
      ]
    },
    {
      "cell_type": "code",
      "source": [
        "print('Max testing accuracy: ', np.max(trainer.get_training_history()[3]))"
      ],
      "metadata": {
        "colab": {
          "base_uri": "https://localhost:8080/"
        },
        "id": "CKZEmUK7hdXV",
        "outputId": "fa49dc13-7c90-4317-9c8b-502759e0b461"
      },
      "execution_count": null,
      "outputs": [
        {
          "output_type": "stream",
          "name": "stdout",
          "text": [
            "Max testing accuracy:  0.8775\n"
          ]
        }
      ]
    },
    {
      "cell_type": "code",
      "source": [
        "train_loss, train_accuracy, valid_loss, valid_accuracy = trainer.get_training_history()\n",
        "\n",
        "# summarize history for accuracy and loss\n",
        "plt.plot(train_accuracy)\n",
        "plt.plot(valid_accuracy)\n",
        "plt.title('model accuracy')\n",
        "plt.ylabel('accuracy')\n",
        "plt.xlabel('epoch')\n",
        "plt.legend(['train', 'valid'], loc='upper left')\n",
        "plt.show()\n",
        "\n",
        "plt.plot(train_loss)\n",
        "plt.plot(valid_loss)\n",
        "plt.title('model loss')\n",
        "plt.ylabel('loss')\n",
        "plt.xlabel('epoch')\n",
        "plt.legend(['train', 'valid'], loc='upper left')\n",
        "plt.show()"
      ],
      "metadata": {
        "colab": {
          "base_uri": "https://localhost:8080/",
          "height": 927
        },
        "id": "ORvpSB-RCJrX",
        "outputId": "7b1149f4-8743-4f97-930c-cebea6bc9883"
      },
      "execution_count": null,
      "outputs": [
        {
          "output_type": "display_data",
          "data": {
            "text/plain": [
              "<Figure size 640x480 with 1 Axes>"
            ],
            "image/png": "[encoded data removed]"
          },
          "metadata": {}
        },
        {
          "output_type": "display_data",
          "data": {
            "text/plain": [
              "<Figure size 640x480 with 1 Axes>"
            ],
            "image/png": "[encoded data removed]"
          },
          "metadata": {}
        }
      ]
    },
    {
      "cell_type": "code",
      "source": [],
      "metadata": {
        "id": "k49AG-jDhfeM"
      },
      "execution_count": null,
      "outputs": []
    }
  ]
}